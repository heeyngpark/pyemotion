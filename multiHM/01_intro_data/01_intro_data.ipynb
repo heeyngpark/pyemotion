{
 "cells": [
  {
   "cell_type": "markdown",
   "metadata": {},
   "source": [
    "# CMU Multimodal Data SDK 소개"
   ]
  },
  {
   "cell_type": "markdown",
   "metadata": {
    "collapsed": true
   },
   "source": [
    "* 싸이그래머 / 파이모션 : 파트 1 - 멀티모달 휴먼모델링 [1]\n",
    "* 김무성"
   ]
  },
  {
   "cell_type": "markdown",
   "metadata": {},
   "source": [
    "# CMU Multimodal Data SDK 설치"
   ]
  },
  {
   "cell_type": "code",
   "execution_count": null,
   "metadata": {},
   "outputs": [],
   "source": [
    "!ls"
   ]
  },
  {
   "cell_type": "code",
   "execution_count": null,
   "metadata": {},
   "outputs": [],
   "source": [
    "!git clone https://github.com/A2Zadeh/CMU-MultimodalDataSDK.git CMU-MultimodalDataSDK"
   ]
  },
  {
   "cell_type": "code",
   "execution_count": null,
   "metadata": {},
   "outputs": [],
   "source": [
    "!ls"
   ]
  },
  {
   "cell_type": "markdown",
   "metadata": {},
   "source": [
    "# CMU Multimodal Data SDK 소개\n",
    "* https://github.com/A2Zadeh/CMU-MultimodalDataSDK/blob/master/README.md"
   ]
  },
  {
   "cell_type": "markdown",
   "metadata": {},
   "source": [
    "# CMU Multimodal Data SDK 환경설정"
   ]
  },
  {
   "cell_type": "markdown",
   "metadata": {},
   "source": [
    "#### (자주 사용한다면) 시스템의 파이썬패스 경로에 추가해준다."
   ]
  },
  {
   "cell_type": "markdown",
   "metadata": {},
   "source": [
    "Then add the cloned folder to your \\$PYTHONPATH environment variable. For example, you can do so by adding the following line (replace the path with your actual path of course) to your ~/.bashrc file.\n",
    "\n",
    "> export PYTHONPATH=\"/path/to/cloned/directory/CMU-MultimodalDataSDK:$PYTHONPATH\"\n"
   ]
  },
  {
   "cell_type": "code",
   "execution_count": null,
   "metadata": {},
   "outputs": [],
   "source": [
    "!pwd # 현재 위치 "
   ]
  },
  {
   "cell_type": "markdown",
   "metadata": {},
   "source": [
    "> export PYTHONPATH=\"/home/jovyan/work/pyemotion/multiHM/01_intro_data/CMU-MultimodalDataSDK:$PYTHONPATH\"\n"
   ]
  },
  {
   "cell_type": "markdown",
   "metadata": {},
   "source": [
    "참고) 좀 쉽게 하기위해 심볼릭 링크로 고정 장소에 연결해놓으면 편해진다. "
   ]
  },
  {
   "cell_type": "markdown",
   "metadata": {},
   "source": [
    "> ln -s /home/jovyan/work/pyemotion/multiHM/01_intro_data/CMU-MultimodalDataSDK /home/jovyan/work/CMU-MultimodalDataSDK"
   ]
  },
  {
   "cell_type": "markdown",
   "metadata": {},
   "source": [
    "> export PYTHONPATH=\"/home/jovyan/work/CMU-MultimodalDataSDK:$PYTHONPATH\"\n"
   ]
  },
  {
   "cell_type": "markdown",
   "metadata": {},
   "source": [
    "#### (임시라면) 이렇게 해도 된다."
   ]
  },
  {
   "cell_type": "code",
   "execution_count": null,
   "metadata": {
    "collapsed": true
   },
   "outputs": [],
   "source": [
    "import os\n",
    "import sys\n",
    "data_dir = 'CMU-MultimodalDataSDK'\n",
    "data_path = os.path.join(os.getcwd(), data_dir)\n",
    "sys.path.append(data_path)"
   ]
  },
  {
   "cell_type": "markdown",
   "metadata": {},
   "source": [
    "# Dataset 가져오기"
   ]
  },
  {
   "cell_type": "code",
   "execution_count": null,
   "metadata": {
    "collapsed": true
   },
   "outputs": [],
   "source": [
    "# import a Dataloader class from multimodal data SDK\n",
    "from mmdata import Dataloader"
   ]
  },
  {
   "cell_type": "code",
   "execution_count": null,
   "metadata": {
    "collapsed": true
   },
   "outputs": [],
   "source": [
    "# feed in the URL for the dataset. For URLs for all datasets, refer to section 3.7.\n",
    "mosei = Dataloader('http://sorena.multicomp.cs.cmu.edu/downloads/MOSEI') "
   ]
  },
  {
   "cell_type": "code",
   "execution_count": null,
   "metadata": {
    "collapsed": true
   },
   "outputs": [],
   "source": [
    "# download & load facet visual feature\n",
    "mosei_facet = mosei.facet() "
   ]
  },
  {
   "cell_type": "code",
   "execution_count": null,
   "metadata": {
    "collapsed": true
   },
   "outputs": [],
   "source": [
    "# download & load word embeddings\n",
    "mosei_emb = mosei.embeddings() "
   ]
  },
  {
   "cell_type": "markdown",
   "metadata": {
    "collapsed": true
   },
   "source": [
    "# Merging and Accessing Datasets"
   ]
  },
  {
   "cell_type": "code",
   "execution_count": null,
   "metadata": {
    "collapsed": true
   },
   "outputs": [],
   "source": [
    "from mmdata import Dataset # we need the Dataset class for merging"
   ]
  },
  {
   "cell_type": "code",
   "execution_count": null,
   "metadata": {
    "collapsed": true
   },
   "outputs": [],
   "source": [
    "mosei_facet_n_emb = Dataset.merge(mosei_facet, mosei_emb) # merge two Dataset object"
   ]
  },
  {
   "cell_type": "code",
   "execution_count": null,
   "metadata": {},
   "outputs": [],
   "source": [
    "mosei_facet.keys()"
   ]
  },
  {
   "cell_type": "code",
   "execution_count": null,
   "metadata": {},
   "outputs": [],
   "source": [
    "mosei_facet_n_emb.keys()"
   ]
  },
  {
   "cell_type": "markdown",
   "metadata": {},
   "source": [
    "From there, you can access the data of a particular type of feature for a particular segment in a particular video by the following indexing:\n",
    "\n",
    "feats[modality_name][video_id][segment_id]. \n",
    "\n",
    "Video and segment IDs are strings that characterizes the video and segments in the dataset. While segment IDs are strings of integers (e.g. '1', '2', '3', '16') indicating which segment it is within the video, video IDs usually doesn't have a pattern. If you want to take a look at the video IDs, you can access them by looking at the keys of the second hierarchy of the nested dictionary.\n",
    "<br>(구글 번역 : \n",
    "\n",
    "여기에서 특정 비디오의 특정 세그먼트에 대한 특정 유형의 기능 데이터를 \n",
    "\n",
    "feats [modality_name] [video_id] [segment_id] \n",
    "\n",
    "인덱싱을 통해 액세스 할 수 있습니다. \n",
    "\n",
    "비디오 및 세그먼트 ID는 데이터 세트의 비디오 및 세그먼트를 특징 짓는 문자열입니다. 세그먼트 ID는 동영상 내에있는 세그먼트를 나타내는 정수 문자열 (예 : '1', '2', '3', '16')이지만 동영상 ID는 일반적으로 패턴이 없습니다. 비디오 ID를보고 싶으면 중첩 된 사전의 두 번째 계층 키를보고 액세스 할 수 있습니다.)"
   ]
  },
  {
   "cell_type": "code",
   "execution_count": null,
   "metadata": {
    "collapsed": true
   },
   "outputs": [],
   "source": [
    "vids = list(mosei_facet_n_emb['facet'].keys()) # extract the list of all video ids"
   ]
  },
  {
   "cell_type": "code",
   "execution_count": null,
   "metadata": {},
   "outputs": [],
   "source": [
    "len(vids)"
   ]
  },
  {
   "cell_type": "code",
   "execution_count": null,
   "metadata": {},
   "outputs": [],
   "source": [
    "vids[:5]"
   ]
  },
  {
   "cell_type": "code",
   "execution_count": null,
   "metadata": {
    "collapsed": true
   },
   "outputs": [],
   "source": [
    "vid = vids[0] # pick the first video"
   ]
  },
  {
   "cell_type": "code",
   "execution_count": null,
   "metadata": {},
   "outputs": [],
   "source": [
    "mosei_facet_n_emb['facet'][vid].keys()"
   ]
  },
  {
   "cell_type": "code",
   "execution_count": null,
   "metadata": {},
   "outputs": [],
   "source": [
    "len(mosei_facet_n_emb['facet'][vid]['5'])"
   ]
  },
  {
   "cell_type": "code",
   "execution_count": null,
   "metadata": {},
   "outputs": [],
   "source": [
    "mosei_facet_n_emb['facet'][vid]['5'][:2]"
   ]
  },
  {
   "cell_type": "markdown",
   "metadata": {},
   "source": [
    "# Feature Alignment"
   ]
  },
  {
   "cell_type": "code",
   "execution_count": null,
   "metadata": {
    "collapsed": true
   },
   "outputs": [],
   "source": [
    "aligned = mosei_facet_n_emb.align('embeddings')"
   ]
  },
  {
   "cell_type": "markdown",
   "metadata": {},
   "source": [
    "# Loading Train/Validation/Test Splits and Labels"
   ]
  },
  {
   "cell_type": "code",
   "execution_count": null,
   "metadata": {},
   "outputs": [],
   "source": [
    "train_ids = mosei.train()\n",
    "valid_ids = mosei.valid()\n",
    "test_ids = mosei.test()"
   ]
  },
  {
   "cell_type": "code",
   "execution_count": null,
   "metadata": {},
   "outputs": [],
   "source": [
    "type(train_ids)"
   ]
  },
  {
   "cell_type": "code",
   "execution_count": null,
   "metadata": {},
   "outputs": [],
   "source": [
    "len(train_ids)"
   ]
  },
  {
   "cell_type": "code",
   "execution_count": null,
   "metadata": {},
   "outputs": [],
   "source": [
    "list(train_ids)[0]"
   ]
  },
  {
   "cell_type": "code",
   "execution_count": null,
   "metadata": {},
   "outputs": [],
   "source": [
    "labels = mosei.sentiments()"
   ]
  },
  {
   "cell_type": "code",
   "execution_count": null,
   "metadata": {},
   "outputs": [],
   "source": [
    "type(labels)"
   ]
  },
  {
   "cell_type": "code",
   "execution_count": null,
   "metadata": {},
   "outputs": [],
   "source": [
    "len(labels)"
   ]
  },
  {
   "cell_type": "code",
   "execution_count": null,
   "metadata": {},
   "outputs": [],
   "source": [
    "labels[list(labels.keys())[0]]"
   ]
  },
  {
   "cell_type": "code",
   "execution_count": null,
   "metadata": {},
   "outputs": [],
   "source": [
    "emotions = mosei.emotions()"
   ]
  },
  {
   "cell_type": "code",
   "execution_count": null,
   "metadata": {},
   "outputs": [],
   "source": [
    "type(emotions)"
   ]
  },
  {
   "cell_type": "code",
   "execution_count": null,
   "metadata": {},
   "outputs": [],
   "source": [
    "len(emotions)"
   ]
  },
  {
   "cell_type": "code",
   "execution_count": null,
   "metadata": {},
   "outputs": [],
   "source": [
    "emotions[list(emotions.keys())[0]]"
   ]
  },
  {
   "cell_type": "markdown",
   "metadata": {
    "collapsed": true
   },
   "source": [
    "# 참고자료 \n",
    "* [1] CMU-MultimodalDataSDK - https://github.com/A2Zadeh/CMU-MultimodalDataSDK\n",
    "* [2] First Workshop and Grand Challenge on Computational Modeling of Human Multimodal Language – ACL 2018 - http://multicomp.cs.cmu.edu/acl2018multimodalchallenge/\n",
    "* [3] Multimodal Sentiment Intensity Analysis in Videos: Facial Gestures and Verbal Messages - http://multicomp.cs.cmu.edu/wp-content/uploads/2017/09/2016_IS_Zadeh_Multimodal.pdf"
   ]
  }
 ],
 "metadata": {
  "kernelspec": {
   "display_name": "Python 3",
   "language": "python",
   "name": "python3"
  },
  "language_info": {
   "codemirror_mode": {
    "name": "ipython",
    "version": 3
   },
   "file_extension": ".py",
   "mimetype": "text/x-python",
   "name": "python",
   "nbconvert_exporter": "python",
   "pygments_lexer": "ipython3",
   "version": "3.6.2"
  }
 },
 "nbformat": 4,
 "nbformat_minor": 2
}
