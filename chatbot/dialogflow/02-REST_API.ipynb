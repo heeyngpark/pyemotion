{
 "cells": [
  {
   "cell_type": "markdown",
   "metadata": {},
   "source": [
    "# DialogFlow를 이용한 챗봇 만들기 실습 (2) - REST API "
   ]
  },
  {
   "cell_type": "markdown",
   "metadata": {},
   "source": [
    "* 싸이그래머 / 파이모션 - 페르소나 [1]\n",
    "* 발표자 김무성"
   ]
  },
  {
   "cell_type": "markdown",
   "metadata": {},
   "source": [
    "### 오늘의 목표 : 구글 클라우드 함수로 서버리스 REST API 만들기\n",
    "<img src=\"figures/02/cap00.png\" width=600 />"
   ]
  },
  {
   "cell_type": "markdown",
   "metadata": {},
   "source": [
    "### 구글 DialogFlow Intro [2]\n",
    "\n",
    "#### Overview\n",
    "<img src=\"https://dialogflow.com/docs/images/intro/overview-diagram.png\" width=600 />\n",
    "\n",
    "#### How do agents work?\n",
    "<img src=\"https://dialogflow.com/docs/images/intro/agent-diagram.png\" width=600 />\n",
    "\n",
    "#### How fulfillment works\n",
    "<img src=\"https://dialogflow.com/docs/images/intro/fulfillment-diagram.png\" width=600 />"
   ]
  },
  {
   "cell_type": "markdown",
   "metadata": {},
   "source": [
    "### REST API 란? [3]\n",
    "* [3] REST API 디자인 개요 - https://www.slideshare.net/nexusz99/rest-api-48600643"
   ]
  },
  {
   "cell_type": "markdown",
   "metadata": {},
   "source": [
    "<img src=\"https://damienfremont.files.wordpress.com/2017/11/diapositive1.png\" width=600 />\n",
    "\n",
    "<img src=\"https://i1.wp.com/www.robert-drummond.com/wp-content/uploads/2013/05/web20.png\" width=600 />\n",
    "    \n",
    "<img src=\"https://networkop.co.uk/img/rest-crud.png\" width=600 />"
   ]
  },
  {
   "cell_type": "markdown",
   "metadata": {},
   "source": [
    "--------------------------------"
   ]
  },
  {
   "cell_type": "markdown",
   "metadata": {},
   "source": [
    "# Google Cloud Functions - Python 런타임 함수 만들기\n",
    "#### 참고자료\n",
    "* [4] Google Cloud Functions - https://cloud.google.com/functions/\n",
    "* [5] Google Cloud Functions : The Python Runtime- https://cloud.google.com/functions/docs/concepts/python-runtime\n",
    "* [6] (Stakoverflow) Python in Google Cloud Functions - https://stackoverflow.com/questions/48772583/python-in-google-cloud-functions\n",
    "\n",
    "## Hello World\n",
    "\n",
    "#### 1. 다음으로 간다. \n",
    "* [5] Google Cloud Functions : The Python Runtime- https://cloud.google.com/functions/docs/concepts/python-runtime\n",
    "\n",
    "\n",
    "#### 2. Selecting the runtime 에서 CONSOLE 선택\n",
    "\n",
    "<img src=\"figures/02/cap01.png\" width=600 />\n",
    "\n",
    "\n",
    "#### 3. 기존 프로젝트 혹은 새 프로젝트와 연결 / cloud functions api 설정 등의 연결을 완료한다.\n",
    "\n",
    "\n",
    "#### 4. 콘솔 창에서 코드 입력. 이번 실습에서는 다음을 따라 한다. 단, 이때 지역은 서울에서 가장 가까운 곳으로 선택\n",
    "* [6] (Stakoverflow) Python in Google Cloud Functions - https://stackoverflow.com/questions/48772583/python-in-google-cloud-functions\n",
    "\n",
    "\n",
    "#### 5. 짜잔\n",
    "\n",
    "<img src=\"figures/02/cap02.png\" width=600 />\n"
   ]
  },
  {
   "cell_type": "markdown",
   "metadata": {},
   "source": [
    "## 이런 식으로 만들어진 구글 클라우드 함수들은 다음에서 확인할 수 있다. \n",
    "* https://console.cloud.google.com/projectselector/functions/list\n",
    "* 함수 이름을 누르면 상세 보기로 이동. 거기서 트리거 메뉴를 누르면 해당 함수의 URL을 할 수 있다.\n",
    "    - 본인이 만든 함수의 url을 알아야 이후 실습 진행 가능!\n",
    "* 함수 소스는 다음과 같다.\n",
    "\n",
    "```python\n",
    "def hello_world(request):\n",
    "    \"\"\"Responds to any HTTP request.\n",
    "    Args:\n",
    "        request (flask.Request): HTTP request object.\n",
    "    Returns:\n",
    "        The response text or any set of values that can be turned into a\n",
    "        Response object using\n",
    "        `make_response <http://flask.pocoo.org/docs/0.12/api/#flask.Flask.make_response>`.\n",
    "    \"\"\"\n",
    "    request_json = request.get_json()\n",
    "    if request.args and 'message' in request.args:\n",
    "        return request.args.get('message')\n",
    "    elif request_json and 'message' in request_json:\n",
    "        return request_json['message']\n",
    "    else:\n",
    "        return f'Hello World!'\n",
    "```"
   ]
  },
  {
   "cell_type": "markdown",
   "metadata": {},
   "source": [
    "## 함수 사용해보기 1 (REST Client 이용)\n",
    "\n",
    "* https://chrome.google.com/webstore/detail/restlet-client-rest-api-t/aejoelaoggembcahagimdiliamlcdmfm/"
   ]
  },
  {
   "cell_type": "markdown",
   "metadata": {},
   "source": [
    "## 함수 사용해보기 2 (python) [7]"
   ]
  },
  {
   "cell_type": "code",
   "execution_count": 9,
   "metadata": {},
   "outputs": [
    {
     "name": "stdout",
     "output_type": "stream",
     "text": [
      "Hello World!\n"
     ]
    }
   ],
   "source": [
    "# get method\n",
    "\n",
    "import requests\n",
    "\n",
    "api_url = # 자기 함수의 url을 넣는다.\n",
    "\n",
    "r = requests.get(api_url)\n",
    "print(r.text)"
   ]
  },
  {
   "cell_type": "code",
   "execution_count": 11,
   "metadata": {},
   "outputs": [
    {
     "name": "stdout",
     "output_type": "stream",
     "text": [
      "안녕\n"
     ]
    }
   ],
   "source": [
    "# post method\n",
    "\n",
    "import requests\n",
    "\n",
    "api_url = # 자기 함수의 url을 넣는다.\n",
    "\n",
    "data = {'message':'안녕'}\n",
    "r = requests.post(api_url, json=data)\n",
    "print(r.text)"
   ]
  },
  {
   "cell_type": "markdown",
   "metadata": {},
   "source": [
    "## 실습 - 날짜를 받으면 일주일을 더해서 반환하는 REST API를 만들어보자 (POST 방식으로)\n",
    "\n",
    "각자 해봅시다~"
   ]
  },
  {
   "cell_type": "code",
   "execution_count": null,
   "metadata": {},
   "outputs": [],
   "source": [
    "# 꼭 해봐야 합니다. "
   ]
  },
  {
   "cell_type": "markdown",
   "metadata": {},
   "source": [
    "# 참고자료\n",
    "* [1] 싸이그래머 페이스북 그룹 - https://www.facebook.com/groups/psygrammer/\n",
    "* [2] Google DialogFlow Intro - https://dialogflow.com/docs/intro\n",
    "* [3] REST API 디자인 개요 - https://www.slideshare.net/nexusz99/rest-api-48600643\n",
    "* [4] Google Cloud Functions - https://cloud.google.com/functions/\n",
    "* [5] Google Cloud Functions : The Python Runtime- https://cloud.google.com/functions/docs/concepts/python-runtime\n",
    "* [6] (Stakoverflow) Python in Google Cloud Functions - https://stackoverflow.com/questions/48772583/python-in-google-cloud-functions\n",
    "* [7] Requests: HTTP for Humans - http://docs.python-requests.org/en/master/"
   ]
  }
 ],
 "metadata": {
  "kernelspec": {
   "display_name": "Python 3",
   "language": "python",
   "name": "python3"
  },
  "language_info": {
   "codemirror_mode": {
    "name": "ipython",
    "version": 3
   },
   "file_extension": ".py",
   "mimetype": "text/x-python",
   "name": "python",
   "nbconvert_exporter": "python",
   "pygments_lexer": "ipython3",
   "version": "3.6.6"
  }
 },
 "nbformat": 4,
 "nbformat_minor": 2
}
