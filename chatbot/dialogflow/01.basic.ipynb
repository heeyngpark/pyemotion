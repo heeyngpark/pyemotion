{
 "cells": [
  {
   "cell_type": "markdown",
   "metadata": {},
   "source": [
    "# DialogFlow를 이용한 챗봇 만들기 실습"
   ]
  },
  {
   "cell_type": "markdown",
   "metadata": {},
   "source": [
    "* 싸이그래머 / 파이모션 - 페르소나 [1]\n",
    "* 발표자 김무성"
   ]
  },
  {
   "cell_type": "markdown",
   "metadata": {},
   "source": [
    "<img src=\"https://blog.dialogflow.com/images/dialogflow-logo.png\" width=600 />"
   ]
  },
  {
   "cell_type": "markdown",
   "metadata": {},
   "source": [
    "# 참고자료\n",
    "* [1] 싸이그래머 페이스북 그룹 - https://www.facebook.com/groups/psygrammer/\n",
    "* [2] 1시간만에 만드는 음성인식 인공지능 챗봇- https://www.slideshare.net/JerryJeong2/1-82452746\n",
    "* [3] [GCP]Dialogflow 를 이용한 간단 챗봇 만들기 - https://medium.com/@jwlee98/gcp-dialogflow-를-이용한-간단-챗봇-만들기-514ea25e4961\n"
   ]
  }
 ],
 "metadata": {
  "kernelspec": {
   "display_name": "Python 2",
   "language": "python",
   "name": "python2"
  },
  "language_info": {
   "codemirror_mode": {
    "name": "ipython",
    "version": 2
   },
   "file_extension": ".py",
   "mimetype": "text/x-python",
   "name": "python",
   "nbconvert_exporter": "python",
   "pygments_lexer": "ipython2",
   "version": "2.7.15"
  }
 },
 "nbformat": 4,
 "nbformat_minor": 2
}
